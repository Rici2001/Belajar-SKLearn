{
 "cells": [
  {
   "cell_type": "markdown",
   "metadata": {},
   "source": [
    "## Pengenalan Machine Learning"
   ]
  },
  {
   "cell_type": "markdown",
   "metadata": {},
   "source": [
    "## Apa itu Machine Learning ?"
   ]
  },
  {
   "cell_type": "markdown",
   "metadata": {},
   "source": [
    "- Machine Learning adalah bidang ilmu yang memampukan suatu program komputer untuk belajar dari sekumpulan data."
   ]
  },
  {
   "cell_type": "markdown",
   "metadata": {},
   "source": [
    "## Learning Problem "
   ]
  },
  {
   "cell_type": "markdown",
   "metadata": {},
   "source": [
    "- Learning problem dalam machine Learning melibatkan dataset(terdiri dari sejumlah n sample data) untuk melakukan prediksi terhadap properties yang tidak diketahui pada dataset lain yang sejenis\n",
    "- Learning problem terdapat 2 jenis :\n",
    "1. Supervised Learning\n",
    "2. Unsupervised Learning\n",
    "- Supervised Learning problem - memprediksi suatu nilai output untuk suatu input berdasarkan proses learning dengan memanfaatkan sekumpulan data.\n",
    "- Unsupervised Learning problem - program tidak melakukan learning dari label data melainkan mencoba menemukan pola pada data."
   ]
  },
  {
   "cell_type": "markdown",
   "metadata": {},
   "source": [
    "## Terminologi Dasar pada Supervised Learning\n",
    "\n",
    "- Test set : Sekumpulan contoh yang digunakan untuk mengukur performa pada supervised learning.\n",
    "- Pada supervised learning : response variabel bisa di analogikan sebegai kunci jawaban dan explanatory variables bisa dianalogikan sebagai pertanyaannya"
   ]
  },
  {
   "cell_type": "markdown",
   "metadata": {},
   "source": [
    "## Supervised Machine Learning Task\n",
    "\n",
    "- Secara umum terdapat 2 jenis Supervised Machine Leaning Task :\n",
    "1. Classification\n",
    "2. Regression\n",
    "- Classification tasks : menekankan pada proses learning untuk melakukan prediksi nilai discrete dari sejumlah features.\n",
    "- Regression tasks : menekankan pada proses learning untuk melakukan prediksi nilai continuos dari sejumlah features."
   ]
  },
  {
   "cell_type": "markdown",
   "metadata": {},
   "source": [
    "## Unsupervised Machine Leaning Taks\n",
    "\n",
    "- Terdapat beberapa Unsupervised Machine Leaning Tasks :\n",
    "1. Clustering\n",
    "2. Dimensionallity Reduction\n",
    "- Clustering tasks : menekankan pada proses explorasi data untuk menemukan kelompok pada data berdasarkan kemiripan karakteristik.\n",
    "- Dimensionallity Reduction : menekankan pada pada proses explorasi data untuk menemukan sejumlah features yang paling berdampak terhadap variabel"
   ]
  },
  {
   "cell_type": "code",
   "execution_count": null,
   "metadata": {},
   "outputs": [],
   "source": []
  }
 ],
 "metadata": {
  "kernelspec": {
   "display_name": "Python 3",
   "language": "python",
   "name": "python3"
  },
  "language_info": {
   "codemirror_mode": {
    "name": "ipython",
    "version": 3
   },
   "file_extension": ".py",
   "mimetype": "text/x-python",
   "name": "python",
   "nbconvert_exporter": "python",
   "pygments_lexer": "ipython3",
   "version": "3.8.5"
  }
 },
 "nbformat": 4,
 "nbformat_minor": 4
}
